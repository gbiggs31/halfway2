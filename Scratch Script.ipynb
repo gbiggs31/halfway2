{
 "cells": [
  {
   "cell_type": "code",
   "execution_count": 3,
   "metadata": {},
   "outputs": [],
   "source": [
    "import pandas as pd\n",
    "import numpy as np\n",
    "import math\n",
    "# import missingno as mn\n",
    "# import matplotlib.pyplot as plt\n",
    "# import seaborn as sn\n",
    "import pickle\n",
    "from geopy.geocoders import Nominatim\n",
    "\n",
    "#read in the pubs dataset already processed with distance to their nearest tube line attached\n",
    "#easiest thing is probably to start adding total travel time to nearest node point of a different line\n",
    "#again can cover that later, for now just take the closest one\n",
    "#orrrr just treat them as independant pubs and double the length of your data, it wouldn't add much processing time\n",
    "\n",
    "\n",
    "def get_coords_for_address(numentries):\n",
    "    d= {}\n",
    "    # z = 1\n",
    "#     while z <= numentries:\n",
    "    for z in range(numentries):\n",
    "        #user_input = input\n",
    "        d[\"user_input{0}\".format(z)] = input(\"What's your address/postcode? \")\n",
    "        #type(name)\n",
    "        #d[\"user_input{0}\".format(z)]= \"London\"\n",
    "        d[\"user_input_geocode{0}\".format(z)]  = geolocator.geocode(d[\"user_input{0}\".format(z)])\n",
    "        try:\n",
    "            d[\"user_input_latitude{0}\".format(z)] = d[\"user_input_geocode{0}\".format(z)].latitude\n",
    "            d[\"user_input_longitude{0}\".format(z)] = d[\"user_input_geocode{0}\".format(z)].longitude\n",
    "        except:\n",
    "            print(\"This failed! Please try again.\")\n",
    "        z += 1\n"
   ]
  },
  {
   "cell_type": "code",
   "execution_count": 4,
   "metadata": {},
   "outputs": [
    {
     "name": "stdout",
     "output_type": "stream",
     "text": [
      "How many addresses?1\n",
      "What's your address/postcode? e149eg\n",
      "This failed! Please try again.\n"
     ]
    }
   ],
   "source": [
    "\n",
    "geolocator = Nominatim(user_agent= \"GoogleV3\")\n",
    "numentries = int(input(\"How many addresses?\"))\n",
    "get_coords_for_address(numentries)\n"
   ]
  },
  {
   "cell_type": "code",
   "execution_count": null,
   "metadata": {},
   "outputs": [],
   "source": [
    "def get_coords_for_address(numentries):\n",
    "    d= {}\n",
    "    # z = 1\n",
    "    # while z <= numentries:\n",
    "    for z in range(numentries):\n",
    "        #user_input = input\n",
    "        result = None\n",
    "        while result is None:\n",
    "            d[\"user_input{0}\".format(z)] = input(\"What's your address? \")\n",
    "            #type(name)\n",
    "            #d[\"user_input{0}\".format(z)]= \"London\"\n",
    "            d[\"user_input_geocode{0}\".format(z)]  = geolocator.geocode(d[\"user_input{0}\".format(z)])\n",
    "            result = d[\"user_input_geocode{0}\".format(z)]\n",
    "\n",
    "            try:\n",
    "                d[\"user_input_latitude{0}\".format(z)] = d[\"user_input_geocode{0}\".format(z)].latitude\n",
    "                d[\"user_input_longitude{0}\".format(z)] = d[\"user_input_geocode{0}\".format(z)].longitude\n",
    "            except:\n",
    "                print(\"Google can't locate that address! Please try again.\")\n",
    "            z += 1\n",
    "\n",
    "geolocator = Nominatim(user_agent= \"GoogleV3\")\n",
    "numentries = int(input(\"How many addresses?\"))\n",
    "get_coords_for_address(numentries)\n"
   ]
  },
  {
   "cell_type": "code",
   "execution_count": 10,
   "metadata": {},
   "outputs": [
    {
     "name": "stdout",
     "output_type": "stream",
     "text": [
      "None\n"
     ]
    }
   ],
   "source": [
    "\n",
    "print(geolocator.geocode('e149eg'))"
   ]
  },
  {
   "cell_type": "code",
   "execution_count": 12,
   "metadata": {},
   "outputs": [
    {
     "data": {
      "text/plain": [
       "Location(London, Greater London, England, SW1A 2DX, United Kingdom, (51.5073219, -0.1276474, 0.0))"
      ]
     },
     "execution_count": 12,
     "metadata": {},
     "output_type": "execute_result"
    }
   ],
   "source": [
    "geolocator.geocode('london')"
   ]
  },
  {
   "cell_type": "code",
   "execution_count": null,
   "metadata": {},
   "outputs": [],
   "source": []
  }
 ],
 "metadata": {
  "kernelspec": {
   "display_name": "Python 3",
   "language": "python",
   "name": "python3"
  },
  "language_info": {
   "codemirror_mode": {
    "name": "ipython",
    "version": 3
   },
   "file_extension": ".py",
   "mimetype": "text/x-python",
   "name": "python",
   "nbconvert_exporter": "python",
   "pygments_lexer": "ipython3",
   "version": "3.7.3"
  }
 },
 "nbformat": 4,
 "nbformat_minor": 2
}
