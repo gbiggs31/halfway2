{
 "cells": [
  {
   "cell_type": "code",
   "execution_count": 35,
   "metadata": {},
   "outputs": [
    {
     "name": "stdout",
     "output_type": "stream",
     "text": [
      "How many addresses?1\n",
      "What's your address? london\n"
     ]
    }
   ],
   "source": [
    "import pandas as pd\n",
    "import numpy as np\n",
    "import math\n",
    "# import missingno as mn\n",
    "# import matplotlib.pyplot as plt\n",
    "# import seaborn as sn\n",
    "import pickle\n",
    "from geopy.geocoders import Nominatim\n",
    "\n",
    "#read in the pubs dataset already processed with distance to their nearest tube line attached\n",
    "#easiest thing is probably to start adding total travel time to nearest node point of a different line\n",
    "#again can cover that later, for now just take the closest one\n",
    "#orrrr just treat them as independant pubs and double the length of your data, it wouldn't add much processing time\n",
    "\n",
    "\n",
    "# get the user input\n",
    "def get_coords_for_address(numentries):\n",
    "    d= {}\n",
    "    # z = 1\n",
    "    # while z <= numentries:\n",
    "    for z in range(numentries):\n",
    "        result = None\n",
    "        while result is None:\n",
    "            d[\"user_input{0}\".format(z)] = input(\"What's your address? \")\n",
    "            d[\"user_input_geocode{0}\".format(z)]  = geolocator.geocode(d[\"user_input{0}\".format(z)])\n",
    "            result = d[\"user_input_geocode{0}\".format(z)]\n",
    "\n",
    "            try:\n",
    "                d[\"user_input_latitude{0}\".format(z)] = d[\"user_input_geocode{0}\".format(z)].latitude\n",
    "                d[\"user_input_longitude{0}\".format(z)] = d[\"user_input_geocode{0}\".format(z)].longitude\n",
    "            except:\n",
    "                print(\"Google can't locate that address! Please try again.\")\n",
    "            z += 1\n",
    "    return d\n",
    "geolocator = Nominatim(user_agent= \"GoogleV3\")\n",
    "numentries = int(input(\"How many addresses?\"))\n",
    "get_coords_for_address(numentries)\n",
    "\n",
    "\n",
    "# define and get all input data \n",
    "def get_pubs_data():\n",
    "    pubswithdist = pd.read_csv('.\\\\pubswithdist.csv',index_col=0)\n",
    "    #read in the already calculated tube network travel time data set\n",
    "    return pubswithdist\n",
    "\n",
    "def get_tube_travel():\n",
    "    data_tubetravel = pd.read_csv('.\\\\data_tubetravel.csv',index_col=0)\n",
    "    return data_tubetravel\n",
    "\n",
    "def get_station_data():\n",
    "    data_stations = pd.read_csv(\".\\\\stations_csv.sv.csv\")\n",
    "    return data_stations\n",
    "\n",
    "def get_travel_data():\n",
    "    #now grab the all important travel times\n",
    "    data_travel = pd.read_csv(\".\\\\travel_times.csv\")\n",
    "    return data_travel\n",
    "\n",
    "def get_all_data():\n",
    "    pubswithdist = get_pubs_data()\n",
    "    data_tubetravel = get_tube_travel()\n",
    "    data_sations = get_station_data()\n",
    "    data_travel = get_travel_data()\n",
    "    return pubswithdist, data_tubetravel, data_sations, data_travel \n",
    "\n",
    "#need to assign every pub a nearest tube\n",
    "# this should be cached appropriately\n",
    "#need to define a function for distance between coordinates\n",
    "#use the haversine formula\n",
    "#need the angle in radians\n",
    "\n",
    "#candidate for cython?\n",
    "def coords_to_distance(x1,x2,y1,y2):\n",
    "    x1 = x1 * math.pi / 180\n",
    "    x2 = x2 * math.pi / 180\n",
    "    y1 = y1 * math.pi / 180\n",
    "    y2 = y2 * math.pi / 180\n",
    "    dlat = x2 - x1\n",
    "    dlon = y2 - y1\n",
    "    a = (math.pow(math.sin(dlat/2),2)) + math.cos(x1) * math.cos(x2) * (math.pow(math.sin(dlon/2),2))\n",
    "    c = 2 * math.atan2(math.sqrt(a),math.sqrt(1-a))\n",
    "    d = c * 6373\n",
    "    #this is in km\n",
    "    return d\n",
    "\n",
    "\n",
    "# all code after this could be cleaned up and improved\n",
    "def find_second_station(previous_station):\n",
    "    alreadycheckedlines= []\n",
    "    for line in data_travel[data_travel['station1'] == previous_station].iterrows():\n",
    "        #print(line)\n",
    "        alreadycheckedlines.append(line[1]['line'])\n",
    "        datatravel_temp = data_travel[~data_travel['line'].isin(alreadycheckedlines)]\n",
    "        data_filtered = data_stations[data_stations['id'].isin(datatravel_temp['station1'])]\n",
    "    return data_filtered\n",
    "\n",
    "\n"
   ]
  },
  {
   "cell_type": "code",
   "execution_count": 36,
   "metadata": {},
   "outputs": [
    {
     "name": "stdout",
     "output_type": "stream",
     "text": [
      "What's your address? london\n"
     ]
    }
   ],
   "source": [
    "d = get_coords_for_address(1)"
   ]
  },
  {
   "cell_type": "code",
   "execution_count": 37,
   "metadata": {},
   "outputs": [
    {
     "data": {
      "text/plain": [
       "{'user_input0': 'london',\n",
       " 'user_input_geocode0': Location(London, Greater London, England, SW1A 2DX, United Kingdom, (51.5073219, -0.1276474, 0.0)),\n",
       " 'user_input_latitude0': 51.5073219,\n",
       " 'user_input_longitude0': -0.1276474}"
      ]
     },
     "execution_count": 37,
     "metadata": {},
     "output_type": "execute_result"
    }
   ],
   "source": [
    "d"
   ]
  },
  {
   "cell_type": "code",
   "execution_count": 40,
   "metadata": {},
   "outputs": [
    {
     "data": {
      "text/plain": [
       "51.5073219"
      ]
     },
     "execution_count": 40,
     "metadata": {},
     "output_type": "execute_result"
    }
   ],
   "source": [
    "d[\"user_input_latitude{0}\".format(0)]"
   ]
  },
  {
   "cell_type": "code",
   "execution_count": 22,
   "metadata": {},
   "outputs": [
    {
     "data": {
      "text/html": [
       "<div>\n",
       "<style scoped>\n",
       "    .dataframe tbody tr th:only-of-type {\n",
       "        vertical-align: middle;\n",
       "    }\n",
       "\n",
       "    .dataframe tbody tr th {\n",
       "        vertical-align: top;\n",
       "    }\n",
       "\n",
       "    .dataframe thead th {\n",
       "        text-align: right;\n",
       "    }\n",
       "</style>\n",
       "<table border=\"1\" class=\"dataframe\">\n",
       "  <thead>\n",
       "    <tr style=\"text-align: right;\">\n",
       "      <th></th>\n",
       "      <th>id</th>\n",
       "      <th>latitude</th>\n",
       "      <th>longitude</th>\n",
       "      <th>name</th>\n",
       "      <th>display_name</th>\n",
       "      <th>zone</th>\n",
       "      <th>total_lines</th>\n",
       "      <th>rail</th>\n",
       "    </tr>\n",
       "  </thead>\n",
       "  <tbody>\n",
       "    <tr>\n",
       "      <th>0</th>\n",
       "      <td>1</td>\n",
       "      <td>51.5028</td>\n",
       "      <td>-0.2801</td>\n",
       "      <td>Acton Town</td>\n",
       "      <td>Acton&lt;br /&gt;Town</td>\n",
       "      <td>3.0</td>\n",
       "      <td>2</td>\n",
       "      <td>0</td>\n",
       "    </tr>\n",
       "    <tr>\n",
       "      <th>1</th>\n",
       "      <td>2</td>\n",
       "      <td>51.5143</td>\n",
       "      <td>-0.0755</td>\n",
       "      <td>Aldgate</td>\n",
       "      <td>NaN</td>\n",
       "      <td>1.0</td>\n",
       "      <td>2</td>\n",
       "      <td>0</td>\n",
       "    </tr>\n",
       "    <tr>\n",
       "      <th>2</th>\n",
       "      <td>3</td>\n",
       "      <td>51.5154</td>\n",
       "      <td>-0.0726</td>\n",
       "      <td>Aldgate East</td>\n",
       "      <td>Aldgate&lt;br /&gt;East</td>\n",
       "      <td>1.0</td>\n",
       "      <td>2</td>\n",
       "      <td>0</td>\n",
       "    </tr>\n",
       "    <tr>\n",
       "      <th>3</th>\n",
       "      <td>4</td>\n",
       "      <td>51.5107</td>\n",
       "      <td>-0.0130</td>\n",
       "      <td>All Saints</td>\n",
       "      <td>All&lt;br /&gt;Saints</td>\n",
       "      <td>2.0</td>\n",
       "      <td>1</td>\n",
       "      <td>0</td>\n",
       "    </tr>\n",
       "    <tr>\n",
       "      <th>4</th>\n",
       "      <td>5</td>\n",
       "      <td>51.5407</td>\n",
       "      <td>-0.2997</td>\n",
       "      <td>Alperton</td>\n",
       "      <td>NaN</td>\n",
       "      <td>4.0</td>\n",
       "      <td>1</td>\n",
       "      <td>0</td>\n",
       "    </tr>\n",
       "  </tbody>\n",
       "</table>\n",
       "</div>"
      ],
      "text/plain": [
       "   id  latitude  longitude          name       display_name  zone  \\\n",
       "0   1   51.5028    -0.2801    Acton Town    Acton<br />Town   3.0   \n",
       "1   2   51.5143    -0.0755       Aldgate                NaN   1.0   \n",
       "2   3   51.5154    -0.0726  Aldgate East  Aldgate<br />East   1.0   \n",
       "3   4   51.5107    -0.0130    All Saints    All<br />Saints   2.0   \n",
       "4   5   51.5407    -0.2997      Alperton                NaN   4.0   \n",
       "\n",
       "   total_lines  rail  \n",
       "0            2     0  \n",
       "1            2     0  \n",
       "2            2     0  \n",
       "3            1     0  \n",
       "4            1     0  "
      ]
     },
     "execution_count": 22,
     "metadata": {},
     "output_type": "execute_result"
    }
   ],
   "source": [
    "data_stations = get_station_data()\n",
    "data_stations.head()"
   ]
  },
  {
   "cell_type": "code",
   "execution_count": 44,
   "metadata": {},
   "outputs": [
    {
     "data": {
      "text/html": [
       "<div>\n",
       "<style scoped>\n",
       "    .dataframe tbody tr th:only-of-type {\n",
       "        vertical-align: middle;\n",
       "    }\n",
       "\n",
       "    .dataframe tbody tr th {\n",
       "        vertical-align: top;\n",
       "    }\n",
       "\n",
       "    .dataframe thead th {\n",
       "        text-align: right;\n",
       "    }\n",
       "</style>\n",
       "<table border=\"1\" class=\"dataframe\">\n",
       "  <thead>\n",
       "    <tr style=\"text-align: right;\">\n",
       "      <th></th>\n",
       "      <th>id</th>\n",
       "      <th>latitude</th>\n",
       "      <th>longitude</th>\n",
       "      <th>name</th>\n",
       "      <th>display_name</th>\n",
       "      <th>zone</th>\n",
       "      <th>total_lines</th>\n",
       "      <th>rail</th>\n",
       "    </tr>\n",
       "  </thead>\n",
       "  <tbody>\n",
       "    <tr>\n",
       "      <th>48</th>\n",
       "      <td>49</td>\n",
       "      <td>51.508</td>\n",
       "      <td>-0.1247</td>\n",
       "      <td>Charing Cross</td>\n",
       "      <td>Charing&lt;br /&gt;Cross</td>\n",
       "      <td>1.0</td>\n",
       "      <td>2</td>\n",
       "      <td>1</td>\n",
       "    </tr>\n",
       "  </tbody>\n",
       "</table>\n",
       "</div>"
      ],
      "text/plain": [
       "    id  latitude  longitude           name        display_name  zone  \\\n",
       "48  49    51.508    -0.1247  Charing Cross  Charing<br />Cross   1.0   \n",
       "\n",
       "    total_lines  rail  \n",
       "48            2     1  "
      ]
     },
     "execution_count": 44,
     "metadata": {},
     "output_type": "execute_result"
    }
   ],
   "source": [
    "data_stations[data_stations['id'] == 49]"
   ]
  },
  {
   "cell_type": "code",
   "execution_count": 23,
   "metadata": {},
   "outputs": [],
   "source": [
    "def find_nearest_station(input_lat, input_long, user_num, data_stations):\n",
    "    min_distance = 1000\n",
    "    closest_tube_id = []\n",
    "    closest_tube = []\n",
    "    for tube in data_stations.itertuples():\n",
    "        #get distance between input coords and all tubes\n",
    "        current_dist = coords_to_distance(getattr(tube,'latitude'),input_lat,getattr(tube,'longitude'),input_long)\n",
    "        if current_dist < min_distance:\n",
    "            min_distance = current_dist\n",
    "            closest_tube_id = getattr(tube,'id')\n",
    "    return closest_tube_id        "
   ]
  },
  {
   "cell_type": "code",
   "execution_count": 43,
   "metadata": {},
   "outputs": [
    {
     "data": {
      "text/plain": [
       "49"
      ]
     },
     "execution_count": 43,
     "metadata": {},
     "output_type": "execute_result"
    }
   ],
   "source": [
    "# %%timeit\n",
    "find_nearest_station(d[\"user_input_latitude{0}\".format(0)],d[\"user_input_longitude{0}\".format(0)],1,data_stations)"
   ]
  },
  {
   "cell_type": "code",
   "execution_count": 19,
   "metadata": {},
   "outputs": [],
   "source": [
    "#need this to be self contained, and output an identifiable dataset ready for further processing\n",
    "def distance_to_pubs(input_lat, input_long, user_num, data_stations):\n",
    "    min_distance = 1000\n",
    "    closest_tube_id = []\n",
    "    closest_tube = []\n",
    "    for tube in data_stations.itertuples():\n",
    "        #get distance between input coords and all tubes\n",
    "        current_dist = coords_to_distance(getattr(tube,'latitude'),input_lat,getattr(tube,'longitude'),input_long)\n",
    "        if current_dist < min_distance:\n",
    "            min_distance = current_dist\n",
    "            closest_tube_id = getattr(tube,'id')\n",
    "            \n",
    "            #this will return the closest tube station id to the input coords\n",
    "            #could potentially be optimised further but not worth it because of how quick it currently is\n",
    "    \n",
    "    \n",
    "    \n",
    "    \n",
    "    \n",
    "    \n",
    "    #this loop returns the closest tube station to the input coords\n",
    "    #then the below works out the travel time to all the things from that\n",
    "    #data tubetravel contains travel time from each tube station to every other tube station\n",
    "    #so just filter to the nearest tube station and check time to the rest of the network\n",
    "    #need to check each line as well\n",
    "    \n",
    "    x= 1\n",
    "    person_travel = []\n",
    "    tube_id = []\n",
    "    tube_results = []\n",
    "    for line in data_tubetravel[data_tubetravel['id'] == closest_tube_id]['travel_times']:\n",
    "        while x < len(data_stations):\n",
    "            person_travel.append(line[x]['time']) \n",
    "            tube_id.append(x)\n",
    "            x += 1\n",
    "\n",
    "    #the above returns the travel time to all stations from the nearest station\n",
    "    user_num = str(user_num)    \n",
    "    person_travel = pd.DataFrame(person_travel)\n",
    "    tube_id = pd.DataFrame(tube_id)\n",
    "    individ_tube = pd.merge(tube_id,person_travel,left_index = True, right_index = True)\n",
    "    individ_tube.columns = ['tube_id','travel_time_to_tube'+user_num]\n",
    "    \n",
    "    \n",
    "    full_travel = pd.merge(pubs_with_dist_filt,individ_tube, how = 'left',left_on = '0_y',right_on = 'tube_id')\n",
    "    min_distance_time = min_distance / 0.084\n",
    "    full_travel['total time' + user_num] = full_travel['traveltime_totube_pub'] + full_travel['travel_time_to_tube'+str(user_num)] + min_distance_time\n",
    "    return full_travel, closest_tube_id\n",
    "\n"
   ]
  },
  {
   "cell_type": "code",
   "execution_count": null,
   "metadata": {},
   "outputs": [],
   "source": []
  },
  {
   "cell_type": "code",
   "execution_count": null,
   "metadata": {},
   "outputs": [],
   "source": [
    "#could be worth filtering pubs with dist to only a couple of columns so that it's neater?\n",
    "#could be worth filtering pubs with dist to only a couple of columns so that it's neater?\n",
    "pubs_with_dist_filt = pubswithdist[['0_y','index','traveltime_totube_pub']]\n",
    "numpeeps = 2\n",
    "i = 1\n",
    "while i <= numpeeps:\n",
    "    full_travel_i_1, i_closest_tube_id = distance_to_pubs(d[\"user_input_latitude{0}\".format(i)],d[\"user_input_longitude{0}\".format(i)],i,data_stations)\n",
    "    full_travel_i_2, i_second_closest_tube = distance_to_pubs(d[\"user_input_latitude{0}\".format(i)],d[\"user_input_longitude{0}\".format(i)],i,find_second_station(i_closest_tube_id))\n",
    "    full_travel_i = pd.merge(full_travel_i_1,full_travel_i_2, left_index=True,right_index=True)\n",
    "    #full_travel_i['True_shortest' + str(i)] = min(full_travel_i['total time' + str(i) + '_x'], full_travel_i['total time' + str(i) + '_y'])\n",
    "    full_travel_i['true_shortest' + str(i)] = full_travel_i[['total time' + str(i) + '_x', 'total time' + str(i) + '_y']].min(axis=1)\n",
    "    full_travel_i_final = full_travel_i[['true_shortest' + str(i)]]\n",
    "    if i > 1:\n",
    "        full_current = pd.merge(full_travel_i_final,full_current,left_index=True,right_index=True)\n",
    "    else:\n",
    "        full_current = full_travel_i_final\n",
    "    i += 1"
   ]
  },
  {
   "cell_type": "code",
   "execution_count": null,
   "metadata": {},
   "outputs": [],
   "source": [
    "cols_to_use = ['true_shortest' + str(p+1) for p in range(numpeeps)]\n",
    "#full_current['Total'] = full_current.loc[:, cols_to_use].sum(axis=1)\n",
    "full_current['Total'] = full_current[cols_to_use].sum(axis =1 )\n",
    "full_current = pd.merge(full_current,pubswithdist,left_index= True,right_index=True)\n",
    "full_current = full_current[full_current['Total'] != 0]\n",
    "\n",
    "\n",
    "finalfinal = full_current.sort_values('Total')\n",
    "finalfinal_top = finalfinal.head(10)\n",
    "finalfinal_top = finalfinal_top[['Total','2','8']]\n",
    "print(finalfinal_top)"
   ]
  },
  {
   "cell_type": "code",
   "execution_count": null,
   "metadata": {},
   "outputs": [],
   "source": []
  }
 ],
 "metadata": {
  "kernelspec": {
   "display_name": "Python 3",
   "language": "python",
   "name": "python3"
  },
  "language_info": {
   "codemirror_mode": {
    "name": "ipython",
    "version": 3
   },
   "file_extension": ".py",
   "mimetype": "text/x-python",
   "name": "python",
   "nbconvert_exporter": "python",
   "pygments_lexer": "ipython3",
   "version": "3.7.3"
  }
 },
 "nbformat": 4,
 "nbformat_minor": 2
}
